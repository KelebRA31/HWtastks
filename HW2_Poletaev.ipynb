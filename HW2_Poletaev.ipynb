{
 "cells": [
  {
   "cell_type": "code",
   "execution_count": 1,
   "id": "143869fe",
   "metadata": {},
   "outputs": [
    {
     "name": "stdout",
     "output_type": "stream",
     "text": [
      "Requirement already satisfied: psycopg2 in ./opt/anaconda3/lib/python3.9/site-packages (2.9.5)\n",
      "Note: you may need to restart the kernel to use updated packages.\n"
     ]
    }
   ],
   "source": [
    "%pip install psycopg2"
   ]
  },
  {
   "cell_type": "code",
   "execution_count": 3,
   "id": "1a5fcfe4",
   "metadata": {},
   "outputs": [
    {
     "name": "stdout",
     "output_type": "stream",
     "text": [
      "0 (14021, 'postgres', 10, 6, 'en_US.UTF-8', 'en_US.UTF-8', False, True, -1, 14020, '726', '1', 1663, None)\n",
      "1 (16385, 'robert', 16384, 6, 'en_US.UTF-8', 'en_US.UTF-8', False, True, -1, 14020, '726', '1', 1663, None)\n",
      "2 (1, 'template1', 10, 6, 'en_US.UTF-8', 'en_US.UTF-8', True, True, -1, 14020, '726', '1', 1663, '{=c/postgres,postgres=CTc/postgres}')\n",
      "3 (14020, 'template0', 10, 6, 'en_US.UTF-8', 'en_US.UTF-8', True, False, -1, 14020, '726', '1', 1663, '{=c/postgres,postgres=CTc/postgres}')\n",
      "4 (16386, 'dogsToDogs', 16384, 6, 'en_US.UTF-8', 'en_US.UTF-8', False, True, -1, 14020, '726', '1', 1663, None)\n"
     ]
    }
   ],
   "source": [
    "import psycopg2 as pg_driver\n",
    "\n",
    "db = pg_driver.connect(\n",
    "    database=\"postgres\", \n",
    "    user='postgres',\n",
    "    password='postgres', \n",
    "    host='localhost', \n",
    "    port='5432'\n",
    ")\n",
    "\n",
    "# Далее нам нужен курсор, который позволит нам непосредственно отправлять запросы на выполнения в БД. Эта строка всегда одинаковая\n",
    "cur = db.cursor()\n",
    "# Делаем запрос к таблице по умолчанию pg_database\n",
    "cur.execute(\"select * from pg_database\")\n",
    "\n",
    "# Чтобы извлечь результат выполнения запроса к таблице по умолчанию, необходимо воспользоваться методом .fetchall()\n",
    "rs = cur.fetchall()\n",
    "\n",
    "\n",
    "# enumerate позволяет красиво пронумеровать строки\n",
    "for row, values in enumerate(rs):\n",
    "    print(row, values)"
   ]
  },
  {
   "cell_type": "code",
   "execution_count": 4,
   "id": "d193d8f5",
   "metadata": {},
   "outputs": [
    {
     "name": "stdout",
     "output_type": "stream",
     "text": [
      "CREATE DATABASE homeworkdb;\n",
      "CREATE USER markuser with encrypted password 'markuser';\n",
      "GRANT ALL PRIVILEGES ON DATABASE homeworkdb TO markuser;\n"
     ]
    }
   ],
   "source": [
    "import psycopg2 as pg_driver\n",
    "\n",
    "db = pg_driver.connect(user=\"postgres\",\n",
    "                       password=\"postgres\",\n",
    "                       host='localhost',\n",
    "                       port='5432')\n",
    "\n",
    "\n",
    "def execute_queries(db, sql_commands):\n",
    "    db.autocommit = True\n",
    "    with db.cursor() as cursor:\n",
    "        for sql_command in sql_commands:\n",
    "            print(sql_command)\n",
    "            cursor.execute(sql_command)\n",
    "\n",
    "sql_commands = [\"CREATE DATABASE homeworkdb;\",\n",
    "                \"CREATE USER markuser with encrypted password 'markuser';\",\n",
    "                \"GRANT ALL PRIVILEGES ON DATABASE homeworkdb TO markuser;\"]\n",
    "\n",
    "\n",
    "# запускаем выполнение запросов\n",
    "execute_queries(db, sql_commands)"
   ]
  },
  {
   "cell_type": "code",
   "execution_count": 46,
   "id": "9d281447",
   "metadata": {},
   "outputs": [
    {
     "name": "stdout",
     "output_type": "stream",
     "text": [
      "DROP TABLE IF EXISTS users;\n",
      "DROP TABLE IF EXISTS photos;\n",
      "DROP TABLE IF EXISTS comments;\n",
      "DROP TABLE IF EXISTS likes;\n",
      "CREATE TABLE users (\n",
      "                         user_id    INT       NOT NULL,\n",
      "                         name    TEXT       NOT NULL,\n",
      "                         type    TEXT       NOT NULL\n",
      "                         \n",
      "                );\n",
      "                \n",
      "CREATE TABLE photos (\n",
      "                         photo_id    INT       NOT NULL,\n",
      "                         photo_name    TEXT       NOT NULL,\n",
      "                         user_id    INT       NOT NULL,\n",
      "                         type    TEXT       NOT NULL\n",
      "                         \n",
      "                  );\n",
      "                \n",
      "CREATE TABLE comments (\n",
      "                         comment_id    INT       NOT NULL,\n",
      "                         comment_text    TEXT       NOT NULL,\n",
      "                         user_id    INT       NOT NULL,\n",
      "                         photo_id    INT       NOT NULL,\n",
      "                         type    TEXT       NOT NULL\n",
      "                         \n",
      "                );\n",
      "                \n",
      "CREATE TABLE likes (\n",
      "                         user_from    INT       NOT NULL,\n",
      "                         type       TEXT       NOT NULL,\n",
      "                         type_id    INT       NOT NULL\n",
      "                         \n",
      "                );\n",
      "                \n"
     ]
    }
   ],
   "source": [
    "import psycopg2 as pg_driver\n",
    "\n",
    "db = pg_driver.connect(\n",
    "                        database=\"homeworkdb\", \n",
    "                        user='markuser',\n",
    "                        password='markuser', \n",
    "                        host='localhost', \n",
    "                        port='5432'\n",
    "                    )\n",
    "\n",
    "\n",
    "\n",
    "def execute_queries(db, sql_commands):\n",
    "    db.autocommit = True\n",
    "    with db.cursor() as cursor:\n",
    "        for sql_command in sql_commands:\n",
    "            print(sql_command)\n",
    "            cursor.execute(sql_command)\n",
    "\n",
    "\n",
    "sql_commands = [\"DROP TABLE IF EXISTS users;\",\n",
    "                \"DROP TABLE IF EXISTS photos;\",\n",
    "                \"DROP TABLE IF EXISTS comments;\",\n",
    "                \"DROP TABLE IF EXISTS likes;\",\n",
    "                \"\"\"CREATE TABLE users (\n",
    "                         user_id    INT       NOT NULL,\n",
    "                         name    TEXT       NOT NULL,\n",
    "                         type    TEXT       NOT NULL\n",
    "                         \n",
    "                );\n",
    "                \"\"\",\n",
    "                \"\"\"CREATE TABLE photos (\n",
    "                         photo_id    INT       NOT NULL,\n",
    "                         photo_name    TEXT       NOT NULL,\n",
    "                         user_id    INT       NOT NULL,\n",
    "                         type    TEXT       NOT NULL\n",
    "                         \n",
    "                  );\n",
    "                \"\"\",\n",
    "                \"\"\"CREATE TABLE comments (\n",
    "                         comment_id    INT       NOT NULL,\n",
    "                         comment_text    TEXT       NOT NULL,\n",
    "                         user_id    INT       NOT NULL,\n",
    "                         photo_id    INT       NOT NULL,\n",
    "                         type    TEXT       NOT NULL\n",
    "                         \n",
    "                );\n",
    "                \"\"\",\n",
    "                \"\"\"CREATE TABLE likes (\n",
    "                         user_from    INT       NOT NULL,\n",
    "                         type       TEXT       NOT NULL,\n",
    "                         type_id    INT       NOT NULL\n",
    "                         \n",
    "                );\n",
    "                \"\"\"]\n",
    "\n",
    "\n",
    "execute_queries(db, sql_commands)"
   ]
  },
  {
   "cell_type": "code",
   "execution_count": 48,
   "id": "0095abf9",
   "metadata": {},
   "outputs": [],
   "source": [
    "import psycopg2\n",
    "from psycopg2 import Error\n",
    "from psycopg2.extras import NamedTupleCursor\n",
    "\n",
    "def execute_query(query, fetch_result=False):\n",
    "    try:\n",
    "        connection = psycopg2.connect(\n",
    "                                database=\"postgres\", \n",
    "                                user='postgres',\n",
    "                                password='rootroot', \n",
    "                                host='localhost', \n",
    "                                port='5432'\n",
    "                     )\n",
    "        connection.autocommit = True\n",
    "        cursor = connection.cursor(cursor_factory=NamedTupleCursor)\n",
    "        cursor.execute(query)\n",
    "        if fetch_result:\n",
    "            return cursor.fetchall()\n",
    "    except (Exception, Error) as error:\n",
    "        print(\"Error while connecting to PostgreSQL\", error)\n",
    "    finally:\n",
    "        if (connection):\n",
    "            cursor.close()\n",
    "            connection.close()"
   ]
  },
  {
   "cell_type": "code",
   "execution_count": 49,
   "id": "0b03484b",
   "metadata": {},
   "outputs": [
    {
     "name": "stdout",
     "output_type": "stream",
     "text": [
      "[Record(count=25)]\n",
      "[Record(count=25)]\n"
     ]
    }
   ],
   "source": [
    "import psycopg2\n",
    "from psycopg2 import Error\n",
    "from psycopg2.extras import NamedTupleCursor\n",
    "\n",
    "def execute_query(query, fetch_result=False):\n",
    "    try:\n",
    "        connection = pg_driver.connect(\n",
    "                        database=\"postgres\", \n",
    "                        user='postgres',\n",
    "                        password='rootroot', \n",
    "                        host='localhost', \n",
    "                        port='5432'\n",
    "                    );\n",
    "        \n",
    "        connection.autocommit = True\n",
    "        cursor = connection.cursor(cursor_factory=NamedTupleCursor)\n",
    "        cursor.execute(query)\n",
    "        if fetch_result:\n",
    "            return cursor.fetchall()\n",
    "    except (Exception, Error) as error:\n",
    "        print(\"Error while connecting to PostgreSQL\", error)\n",
    "    finally:\n",
    "        if (connection):\n",
    "            cursor.close()\n",
    "            connection.close()\n",
    "row_count_hist = execute_query(\"select count(*) from users\", fetch_result=True)\n",
    "row_count_payment = execute_query(\"select count(*) from likes\", fetch_result=True)\n",
    "\n",
    "print(row_count_hist)\n",
    "print(row_count_payment)"
   ]
  },
  {
   "cell_type": "code",
   "execution_count": 43,
   "id": "29967f24",
   "metadata": {},
   "outputs": [],
   "source": [
    "query = \"\"\" INSERT INTO users (user_id, name, type) \n",
    "            VALUES \n",
    "                 (1, 'Mark', 'person'),\n",
    "                 (2, 'Dima', 'person'),\n",
    "                 (3, 'Phill', 'person'),\n",
    "                 (4, 'Viktor', 'person'),\n",
    "                 (5, 'Ivan', 'person')\n",
    "            \n",
    "        \"\"\"\n",
    "\n",
    "execute_query(query)\n",
    "\n",
    "\n",
    "query = \"\"\" INSERT INTO photos (photo_id, photo_name, user_id, type) \n",
    "            VALUES \n",
    "                 (1, 'Photo1', 1, 'photo'),\n",
    "                 (2, 'Photo2', 2, 'photo'),\n",
    "                 (3, 'Photo3', 3, 'photo'),\n",
    "                 (4, 'Photo4', 4, 'photo'),\n",
    "                 (5, 'Photo5', 5, 'photo')\n",
    "            \n",
    "        \"\"\"\n",
    "\n",
    "execute_query(query)\n",
    "\n",
    "\n",
    "query = \"\"\" INSERT INTO comments (comment_id, comment_text, user_id, photo_id, type) \n",
    "            VALUES \n",
    "                 (1, 'First Comment', 1, 1, 'comment'),\n",
    "                 (2, 'Second Comment', 2, 2, 'comment'),\n",
    "                 (3, 'Third Comment', 3, 3, 'comment'),\n",
    "                 (4, 'Fourth Comment', 4, 4, 'comment'),\n",
    "                 (5, 'Fifth Comment', 5, 5, 'comment')\n",
    "            \n",
    "        \"\"\"\n",
    "\n",
    "execute_query(query)\n",
    "\n",
    "\n",
    "query = \"\"\" INSERT INTO likes (user_from, type, type_id) \n",
    "            VALUES \n",
    "                 (1, 'person', 3),\n",
    "                 (2, 'photo', 3),\n",
    "                 (3, 'comment', 2),\n",
    "                 (4, 'photo', 1 ),\n",
    "                 (5, 'person', 4)\n",
    "            \n",
    "        \"\"\"\n",
    "\n",
    "execute_query(query)"
   ]
  },
  {
   "cell_type": "code",
   "execution_count": 50,
   "id": "da5922a8",
   "metadata": {},
   "outputs": [
    {
     "name": "stdout",
     "output_type": "stream",
     "text": [
      "0 Record(user_from=3, count=5)\n"
     ]
    }
   ],
   "source": [
    "all_rows = execute_query(\"select user_from, count(*) from likes where type='comment' group by user_from\", fetch_result=True)\n",
    "for row, value in enumerate(all_rows):\n",
    "    print(row, value)"
   ]
  },
  {
   "cell_type": "code",
   "execution_count": 51,
   "id": "d658f4be",
   "metadata": {},
   "outputs": [
    {
     "name": "stdout",
     "output_type": "stream",
     "text": [
      "0 Record(user_from=2, count=5)\n",
      "1 Record(user_from=4, count=5)\n"
     ]
    }
   ],
   "source": [
    "all_rows = execute_query(\"select user_from, count(*) from likes where type='photo' group by user_from\", fetch_result=True)\n",
    "for row, value in enumerate(all_rows):\n",
    "    print(row, value)"
   ]
  },
  {
   "cell_type": "code",
   "execution_count": 52,
   "id": "86081b3c",
   "metadata": {},
   "outputs": [
    {
     "name": "stdout",
     "output_type": "stream",
     "text": [
      "0 Record(user_from=1, count=5)\n",
      "1 Record(user_from=5, count=5)\n"
     ]
    }
   ],
   "source": [
    "all_rows = execute_query(\"select user_from, count(*) from likes where type='person' group by user_from\", fetch_result=True)\n",
    "for row, value in enumerate(all_rows):\n",
    "    print(row, value)"
   ]
  },
  {
   "cell_type": "code",
   "execution_count": 64,
   "id": "516b5707",
   "metadata": {},
   "outputs": [
    {
     "name": "stdout",
     "output_type": "stream",
     "text": [
      "0 Record(user_from=4, name='Viktor', like_count=25)\n",
      "1 Record(user_from=1, name='Mark', like_count=25)\n",
      "2 Record(user_from=3, name='Phill', like_count=25)\n",
      "3 Record(user_from=2, name='Dima', like_count=25)\n",
      "4 Record(user_from=5, name='Ivan', like_count=25)\n"
     ]
    }
   ],
   "source": [
    "query = \"\"\"select\n",
    "                l.user_from,\n",
    "                u.name,\n",
    "                count(*) as like_count\n",
    "                \n",
    "           from likes l\n",
    "           left join users u\n",
    "           on l.user_from=u.user_id\n",
    "           group by l.user_from, u.name\n",
    "           \n",
    "        \"\"\"\n",
    "all_rows = execute_query(query, fetch_result=True)\n",
    "for row, value in enumerate(all_rows):\n",
    "    print(row, value)"
   ]
  },
  {
   "cell_type": "code",
   "execution_count": null,
   "id": "9386d53c",
   "metadata": {},
   "outputs": [],
   "source": []
  }
 ],
 "metadata": {
  "kernelspec": {
   "display_name": "Python 3 (ipykernel)",
   "language": "python",
   "name": "python3"
  },
  "language_info": {
   "codemirror_mode": {
    "name": "ipython",
    "version": 3
   },
   "file_extension": ".py",
   "mimetype": "text/x-python",
   "name": "python",
   "nbconvert_exporter": "python",
   "pygments_lexer": "ipython3",
   "version": "3.9.13"
  }
 },
 "nbformat": 4,
 "nbformat_minor": 5
}
